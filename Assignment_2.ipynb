{
 "cells": [
  {
   "cell_type": "code",
   "metadata": {
    "cell_id": "217b8fa4-2614-4905-8199-c746752f9b65",
    "deepnote_to_be_reexecuted": false,
    "source_hash": "eec8e137",
    "execution_start": 1656624998836,
    "execution_millis": 7817,
    "deepnote_cell_type": "code",
    "deepnote_cell_height": 815,
    "deepnote_output_heights": [
     322
    ]
   },
   "source": "# 2173638 Shravan Singh\n# 1871892 Umair Bham\n\nimport pandas as pd\nimport numpy as np\nimport matplotlib.pyplot as plt\nfrom datetime import datetime\nimport seaborn as sns\nimport geopandas as gpd\n\ndf = pd.read_csv('nyc_taxis.csv')\ndf.head(10)",
   "execution_count": 1,
   "outputs": [
    {
     "output_type": "execute_result",
     "execution_count": 1,
     "data": {
      "application/vnd.deepnote.dataframe.v3+json": {
       "column_count": 11,
       "row_count": 10,
       "columns": [
        {
         "name": "id",
         "dtype": "object",
         "stats": {
          "unique_count": 10,
          "nan_count": 0,
          "categories": [
           {
            "name": "id2875421",
            "count": 1
           },
           {
            "name": "id2377394",
            "count": 1
           },
           {
            "name": "8 others",
            "count": 8
           }
          ]
         }
        },
        {
         "name": "vendor_id",
         "dtype": "int64",
         "stats": {
          "unique_count": 2,
          "nan_count": 0,
          "min": "1",
          "max": "2",
          "histogram": [
           {
            "bin_start": 1,
            "bin_end": 1.1,
            "count": 3
           },
           {
            "bin_start": 1.1,
            "bin_end": 1.2,
            "count": 0
           },
           {
            "bin_start": 1.2,
            "bin_end": 1.3,
            "count": 0
           },
           {
            "bin_start": 1.3,
            "bin_end": 1.4,
            "count": 0
           },
           {
            "bin_start": 1.4,
            "bin_end": 1.5,
            "count": 0
           },
           {
            "bin_start": 1.5,
            "bin_end": 1.6,
            "count": 0
           },
           {
            "bin_start": 1.6,
            "bin_end": 1.7000000000000002,
            "count": 0
           },
           {
            "bin_start": 1.7000000000000002,
            "bin_end": 1.8,
            "count": 0
           },
           {
            "bin_start": 1.8,
            "bin_end": 1.9,
            "count": 0
           },
           {
            "bin_start": 1.9,
            "bin_end": 2,
            "count": 7
           }
          ]
         }
        },
        {
         "name": "pickup_datetime",
         "dtype": "object",
         "stats": {
          "unique_count": 10,
          "nan_count": 0,
          "categories": [
           {
            "name": "2016-03-14 17:24:55",
            "count": 1
           },
           {
            "name": "2016-06-12 00:43:35",
            "count": 1
           },
           {
            "name": "8 others",
            "count": 8
           }
          ]
         }
        },
        {
         "name": "dropoff_datetime",
         "dtype": "object",
         "stats": {
          "unique_count": 10,
          "nan_count": 0,
          "categories": [
           {
            "name": "2016-03-14 17:32:30",
            "count": 1
           },
           {
            "name": "2016-06-12 00:54:38",
            "count": 1
           },
           {
            "name": "8 others",
            "count": 8
           }
          ]
         }
        },
        {
         "name": "passenger_count",
         "dtype": "int64",
         "stats": {
          "unique_count": 3,
          "nan_count": 0,
          "min": "1",
          "max": "6",
          "histogram": [
           {
            "bin_start": 1,
            "bin_end": 1.5,
            "count": 8
           },
           {
            "bin_start": 1.5,
            "bin_end": 2,
            "count": 0
           },
           {
            "bin_start": 2,
            "bin_end": 2.5,
            "count": 0
           },
           {
            "bin_start": 2.5,
            "bin_end": 3,
            "count": 0
           },
           {
            "bin_start": 3,
            "bin_end": 3.5,
            "count": 0
           },
           {
            "bin_start": 3.5,
            "bin_end": 4,
            "count": 0
           },
           {
            "bin_start": 4,
            "bin_end": 4.5,
            "count": 1
           },
           {
            "bin_start": 4.5,
            "bin_end": 5,
            "count": 0
           },
           {
            "bin_start": 5,
            "bin_end": 5.5,
            "count": 0
           },
           {
            "bin_start": 5.5,
            "bin_end": 6,
            "count": 1
           }
          ]
         }
        },
        {
         "name": "pickup_longitude",
         "dtype": "float64",
         "stats": {
          "unique_count": 10,
          "nan_count": 0,
          "min": "-74.01004028320312",
          "max": "-73.9690170288086",
          "histogram": [
           {
            "bin_start": -74.01004028320312,
            "bin_end": -74.00593795776368,
            "count": 1
           },
           {
            "bin_start": -74.00593795776368,
            "bin_end": -74.00183563232422,
            "count": 0
           },
           {
            "bin_start": -74.00183563232422,
            "bin_end": -73.99773330688477,
            "count": 1
           },
           {
            "bin_start": -73.99773330688477,
            "bin_end": -73.9936309814453,
            "count": 0
           },
           {
            "bin_start": -73.9936309814453,
            "bin_end": -73.98952865600586,
            "count": 0
           },
           {
            "bin_start": -73.98952865600586,
            "bin_end": -73.98542633056641,
            "count": 0
           },
           {
            "bin_start": -73.98542633056641,
            "bin_end": -73.98132400512695,
            "count": 2
           },
           {
            "bin_start": -73.98132400512695,
            "bin_end": -73.9772216796875,
            "count": 3
           },
           {
            "bin_start": -73.9772216796875,
            "bin_end": -73.97311935424804,
            "count": 0
           },
           {
            "bin_start": -73.97311935424804,
            "bin_end": -73.9690170288086,
            "count": 3
           }
          ]
         }
        },
        {
         "name": "pickup_latitude",
         "dtype": "float64",
         "stats": {
          "unique_count": 10,
          "nan_count": 0,
          "min": "40.719970703125",
          "max": "40.79777908325195",
          "histogram": [
           {
            "bin_start": 40.719970703125,
            "bin_end": 40.72775154113769,
            "count": 1
           },
           {
            "bin_start": 40.72775154113769,
            "bin_end": 40.73553237915039,
            "count": 0
           },
           {
            "bin_start": 40.73553237915039,
            "bin_end": 40.743313217163085,
            "count": 3
           },
           {
            "bin_start": 40.743313217163085,
            "bin_end": 40.751094055175784,
            "count": 1
           },
           {
            "bin_start": 40.751094055175784,
            "bin_end": 40.75887489318848,
            "count": 1
           },
           {
            "bin_start": 40.75887489318848,
            "bin_end": 40.76665573120117,
            "count": 1
           },
           {
            "bin_start": 40.76665573120117,
            "bin_end": 40.77443656921387,
            "count": 1
           },
           {
            "bin_start": 40.77443656921387,
            "bin_end": 40.78221740722656,
            "count": 0
           },
           {
            "bin_start": 40.78221740722656,
            "bin_end": 40.78999824523926,
            "count": 0
           },
           {
            "bin_start": 40.78999824523926,
            "bin_end": 40.79777908325195,
            "count": 2
           }
          ]
         }
        },
        {
         "name": "dropoff_longitude",
         "dtype": "float64",
         "stats": {
          "unique_count": 10,
          "nan_count": 0,
          "min": "-74.01226806640625",
          "max": "-73.92247009277344",
          "histogram": [
           {
            "bin_start": -74.01226806640625,
            "bin_end": -74.00328826904297,
            "count": 2
           },
           {
            "bin_start": -74.00328826904297,
            "bin_end": -73.99430847167969,
            "count": 1
           },
           {
            "bin_start": -73.99430847167969,
            "bin_end": -73.9853286743164,
            "count": 2
           },
           {
            "bin_start": -73.9853286743164,
            "bin_end": -73.97634887695312,
            "count": 0
           },
           {
            "bin_start": -73.97634887695312,
            "bin_end": -73.96736907958984,
            "count": 2
           },
           {
            "bin_start": -73.96736907958984,
            "bin_end": -73.95838928222656,
            "count": 1
           },
           {
            "bin_start": -73.95838928222656,
            "bin_end": -73.94940948486328,
            "count": 1
           },
           {
            "bin_start": -73.94940948486328,
            "bin_end": -73.9404296875,
            "count": 0
           },
           {
            "bin_start": -73.9404296875,
            "bin_end": -73.93144989013672,
            "count": 0
           },
           {
            "bin_start": -73.93144989013672,
            "bin_end": -73.92247009277344,
            "count": 1
           }
          ]
         }
        },
        {
         "name": "dropoff_latitude",
         "dtype": "float64",
         "stats": {
          "unique_count": 10,
          "nan_count": 0,
          "min": "40.70671844482422",
          "max": "40.78998947143555",
          "histogram": [
           {
            "bin_start": 40.70671844482422,
            "bin_end": 40.71504554748535,
            "count": 2
           },
           {
            "bin_start": 40.71504554748535,
            "bin_end": 40.72337265014649,
            "count": 0
           },
           {
            "bin_start": 40.72337265014649,
            "bin_end": 40.731699752807614,
            "count": 1
           },
           {
            "bin_start": 40.731699752807614,
            "bin_end": 40.74002685546875,
            "count": 1
           },
           {
            "bin_start": 40.74002685546875,
            "bin_end": 40.74835395812988,
            "count": 0
           },
           {
            "bin_start": 40.74835395812988,
            "bin_end": 40.75668106079102,
            "count": 1
           },
           {
            "bin_start": 40.75668106079102,
            "bin_end": 40.76500816345215,
            "count": 1
           },
           {
            "bin_start": 40.76500816345215,
            "bin_end": 40.77333526611328,
            "count": 2
           },
           {
            "bin_start": 40.77333526611328,
            "bin_end": 40.78166236877441,
            "count": 0
           },
           {
            "bin_start": 40.78166236877441,
            "bin_end": 40.78998947143555,
            "count": 2
           }
          ]
         }
        },
        {
         "name": "store_and_fwd_flag",
         "dtype": "object",
         "stats": {
          "unique_count": 1,
          "nan_count": 0,
          "categories": [
           {
            "name": "N",
            "count": 10
           }
          ]
         }
        },
        {
         "name": "trip_duration",
         "dtype": "int64",
         "stats": {
          "unique_count": 10,
          "nan_count": 0,
          "min": "255",
          "max": "2124",
          "histogram": [
           {
            "bin_start": 255,
            "bin_end": 441.9,
            "count": 4
           },
           {
            "bin_start": 441.9,
            "bin_end": 628.8,
            "count": 2
           },
           {
            "bin_start": 628.8,
            "bin_end": 815.7,
            "count": 1
           },
           {
            "bin_start": 815.7,
            "bin_end": 1002.6,
            "count": 0
           },
           {
            "bin_start": 1002.6,
            "bin_end": 1189.5,
            "count": 0
           },
           {
            "bin_start": 1189.5,
            "bin_end": 1376.4,
            "count": 1
           },
           {
            "bin_start": 1376.4,
            "bin_end": 1563.3,
            "count": 1
           },
           {
            "bin_start": 1563.3,
            "bin_end": 1750.2,
            "count": 0
           },
           {
            "bin_start": 1750.2,
            "bin_end": 1937.1000000000001,
            "count": 0
           },
           {
            "bin_start": 1937.1000000000001,
            "bin_end": 2124,
            "count": 1
           }
          ]
         }
        },
        {
         "name": "_deepnote_index_column",
         "dtype": "int64"
        }
       ],
       "rows": [
        {
         "id": "id2875421",
         "vendor_id": 2,
         "pickup_datetime": "2016-03-14 17:24:55",
         "dropoff_datetime": "2016-03-14 17:32:30",
         "passenger_count": 1,
         "pickup_longitude": -73.98215484619139,
         "pickup_latitude": 40.76793670654297,
         "dropoff_longitude": -73.96463012695312,
         "dropoff_latitude": 40.765602111816406,
         "store_and_fwd_flag": "N",
         "trip_duration": 455,
         "_deepnote_index_column": 0
        },
        {
         "id": "id2377394",
         "vendor_id": 1,
         "pickup_datetime": "2016-06-12 00:43:35",
         "dropoff_datetime": "2016-06-12 00:54:38",
         "passenger_count": 1,
         "pickup_longitude": -73.98041534423827,
         "pickup_latitude": 40.738563537597656,
         "dropoff_longitude": -73.99948120117188,
         "dropoff_latitude": 40.731151580810554,
         "store_and_fwd_flag": "N",
         "trip_duration": 663,
         "_deepnote_index_column": 1
        },
        {
         "id": "id3858529",
         "vendor_id": 2,
         "pickup_datetime": "2016-01-19 11:35:24",
         "dropoff_datetime": "2016-01-19 12:10:48",
         "passenger_count": 1,
         "pickup_longitude": -73.97902679443358,
         "pickup_latitude": 40.763938903808594,
         "dropoff_longitude": -74.00533294677734,
         "dropoff_latitude": 40.710086822509766,
         "store_and_fwd_flag": "N",
         "trip_duration": 2124,
         "_deepnote_index_column": 2
        },
        {
         "id": "id3504673",
         "vendor_id": 2,
         "pickup_datetime": "2016-04-06 19:32:31",
         "dropoff_datetime": "2016-04-06 19:39:40",
         "passenger_count": 1,
         "pickup_longitude": -74.01004028320312,
         "pickup_latitude": 40.719970703125,
         "dropoff_longitude": -74.01226806640625,
         "dropoff_latitude": 40.70671844482422,
         "store_and_fwd_flag": "N",
         "trip_duration": 429,
         "_deepnote_index_column": 3
        },
        {
         "id": "id2181028",
         "vendor_id": 2,
         "pickup_datetime": "2016-03-26 13:30:55",
         "dropoff_datetime": "2016-03-26 13:38:10",
         "passenger_count": 1,
         "pickup_longitude": -73.97305297851561,
         "pickup_latitude": 40.79320907592773,
         "dropoff_longitude": -73.9729232788086,
         "dropoff_latitude": 40.782520294189446,
         "store_and_fwd_flag": "N",
         "trip_duration": 435,
         "_deepnote_index_column": 4
        },
        {
         "id": "id0801584",
         "vendor_id": 2,
         "pickup_datetime": "2016-01-30 22:01:40",
         "dropoff_datetime": "2016-01-30 22:09:03",
         "passenger_count": 6,
         "pickup_longitude": -73.98285675048828,
         "pickup_latitude": 40.74219512939453,
         "dropoff_longitude": -73.99208068847656,
         "dropoff_latitude": 40.74918365478516,
         "store_and_fwd_flag": "N",
         "trip_duration": 443,
         "_deepnote_index_column": 5
        },
        {
         "id": "id1813257",
         "vendor_id": 1,
         "pickup_datetime": "2016-06-17 22:34:59",
         "dropoff_datetime": "2016-06-17 22:40:40",
         "passenger_count": 4,
         "pickup_longitude": -73.9690170288086,
         "pickup_latitude": 40.75783920288086,
         "dropoff_longitude": -73.95740509033203,
         "dropoff_latitude": 40.76589584350586,
         "store_and_fwd_flag": "N",
         "trip_duration": 341,
         "_deepnote_index_column": 6
        },
        {
         "id": "id1324603",
         "vendor_id": 2,
         "pickup_datetime": "2016-05-21 07:54:58",
         "dropoff_datetime": "2016-05-21 08:20:49",
         "passenger_count": 1,
         "pickup_longitude": -73.96927642822266,
         "pickup_latitude": 40.79777908325195,
         "dropoff_longitude": -73.92247009277344,
         "dropoff_latitude": 40.76055908203125,
         "store_and_fwd_flag": "N",
         "trip_duration": 1551,
         "_deepnote_index_column": 7
        },
        {
         "id": "id1301050",
         "vendor_id": 1,
         "pickup_datetime": "2016-05-27 23:12:23",
         "dropoff_datetime": "2016-05-27 23:16:38",
         "passenger_count": 1,
         "pickup_longitude": -73.99948120117188,
         "pickup_latitude": 40.738399505615234,
         "dropoff_longitude": -73.98578643798828,
         "dropoff_latitude": 40.73281478881836,
         "store_and_fwd_flag": "N",
         "trip_duration": 255,
         "_deepnote_index_column": 8
        },
        {
         "id": "id0012891",
         "vendor_id": 2,
         "pickup_datetime": "2016-03-10 21:45:01",
         "dropoff_datetime": "2016-03-10 22:05:26",
         "passenger_count": 1,
         "pickup_longitude": -73.98104858398438,
         "pickup_latitude": 40.744338989257805,
         "dropoff_longitude": -73.9729995727539,
         "dropoff_latitude": 40.78998947143555,
         "store_and_fwd_flag": "N",
         "trip_duration": 1225,
         "_deepnote_index_column": 9
        }
       ]
      },
      "text/plain": "          id  vendor_id      pickup_datetime     dropoff_datetime  \\\n0  id2875421          2  2016-03-14 17:24:55  2016-03-14 17:32:30   \n1  id2377394          1  2016-06-12 00:43:35  2016-06-12 00:54:38   \n2  id3858529          2  2016-01-19 11:35:24  2016-01-19 12:10:48   \n3  id3504673          2  2016-04-06 19:32:31  2016-04-06 19:39:40   \n4  id2181028          2  2016-03-26 13:30:55  2016-03-26 13:38:10   \n5  id0801584          2  2016-01-30 22:01:40  2016-01-30 22:09:03   \n6  id1813257          1  2016-06-17 22:34:59  2016-06-17 22:40:40   \n7  id1324603          2  2016-05-21 07:54:58  2016-05-21 08:20:49   \n8  id1301050          1  2016-05-27 23:12:23  2016-05-27 23:16:38   \n9  id0012891          2  2016-03-10 21:45:01  2016-03-10 22:05:26   \n\n   passenger_count  pickup_longitude  pickup_latitude  dropoff_longitude  \\\n0                1        -73.982155        40.767937         -73.964630   \n1                1        -73.980415        40.738564         -73.999481   \n2                1        -73.979027        40.763939         -74.005333   \n3                1        -74.010040        40.719971         -74.012268   \n4                1        -73.973053        40.793209         -73.972923   \n5                6        -73.982857        40.742195         -73.992081   \n6                4        -73.969017        40.757839         -73.957405   \n7                1        -73.969276        40.797779         -73.922470   \n8                1        -73.999481        40.738400         -73.985786   \n9                1        -73.981049        40.744339         -73.973000   \n\n   dropoff_latitude store_and_fwd_flag  trip_duration  \n0         40.765602                  N            455  \n1         40.731152                  N            663  \n2         40.710087                  N           2124  \n3         40.706718                  N            429  \n4         40.782520                  N            435  \n5         40.749184                  N            443  \n6         40.765896                  N            341  \n7         40.760559                  N           1551  \n8         40.732815                  N            255  \n9         40.789989                  N           1225  ",
      "text/html": "<div>\n<style scoped>\n    .dataframe tbody tr th:only-of-type {\n        vertical-align: middle;\n    }\n\n    .dataframe tbody tr th {\n        vertical-align: top;\n    }\n\n    .dataframe thead th {\n        text-align: right;\n    }\n</style>\n<table border=\"1\" class=\"dataframe\">\n  <thead>\n    <tr style=\"text-align: right;\">\n      <th></th>\n      <th>id</th>\n      <th>vendor_id</th>\n      <th>pickup_datetime</th>\n      <th>dropoff_datetime</th>\n      <th>passenger_count</th>\n      <th>pickup_longitude</th>\n      <th>pickup_latitude</th>\n      <th>dropoff_longitude</th>\n      <th>dropoff_latitude</th>\n      <th>store_and_fwd_flag</th>\n      <th>trip_duration</th>\n    </tr>\n  </thead>\n  <tbody>\n    <tr>\n      <th>0</th>\n      <td>id2875421</td>\n      <td>2</td>\n      <td>2016-03-14 17:24:55</td>\n      <td>2016-03-14 17:32:30</td>\n      <td>1</td>\n      <td>-73.982155</td>\n      <td>40.767937</td>\n      <td>-73.964630</td>\n      <td>40.765602</td>\n      <td>N</td>\n      <td>455</td>\n    </tr>\n    <tr>\n      <th>1</th>\n      <td>id2377394</td>\n      <td>1</td>\n      <td>2016-06-12 00:43:35</td>\n      <td>2016-06-12 00:54:38</td>\n      <td>1</td>\n      <td>-73.980415</td>\n      <td>40.738564</td>\n      <td>-73.999481</td>\n      <td>40.731152</td>\n      <td>N</td>\n      <td>663</td>\n    </tr>\n    <tr>\n      <th>2</th>\n      <td>id3858529</td>\n      <td>2</td>\n      <td>2016-01-19 11:35:24</td>\n      <td>2016-01-19 12:10:48</td>\n      <td>1</td>\n      <td>-73.979027</td>\n      <td>40.763939</td>\n      <td>-74.005333</td>\n      <td>40.710087</td>\n      <td>N</td>\n      <td>2124</td>\n    </tr>\n    <tr>\n      <th>3</th>\n      <td>id3504673</td>\n      <td>2</td>\n      <td>2016-04-06 19:32:31</td>\n      <td>2016-04-06 19:39:40</td>\n      <td>1</td>\n      <td>-74.010040</td>\n      <td>40.719971</td>\n      <td>-74.012268</td>\n      <td>40.706718</td>\n      <td>N</td>\n      <td>429</td>\n    </tr>\n    <tr>\n      <th>4</th>\n      <td>id2181028</td>\n      <td>2</td>\n      <td>2016-03-26 13:30:55</td>\n      <td>2016-03-26 13:38:10</td>\n      <td>1</td>\n      <td>-73.973053</td>\n      <td>40.793209</td>\n      <td>-73.972923</td>\n      <td>40.782520</td>\n      <td>N</td>\n      <td>435</td>\n    </tr>\n    <tr>\n      <th>5</th>\n      <td>id0801584</td>\n      <td>2</td>\n      <td>2016-01-30 22:01:40</td>\n      <td>2016-01-30 22:09:03</td>\n      <td>6</td>\n      <td>-73.982857</td>\n      <td>40.742195</td>\n      <td>-73.992081</td>\n      <td>40.749184</td>\n      <td>N</td>\n      <td>443</td>\n    </tr>\n    <tr>\n      <th>6</th>\n      <td>id1813257</td>\n      <td>1</td>\n      <td>2016-06-17 22:34:59</td>\n      <td>2016-06-17 22:40:40</td>\n      <td>4</td>\n      <td>-73.969017</td>\n      <td>40.757839</td>\n      <td>-73.957405</td>\n      <td>40.765896</td>\n      <td>N</td>\n      <td>341</td>\n    </tr>\n    <tr>\n      <th>7</th>\n      <td>id1324603</td>\n      <td>2</td>\n      <td>2016-05-21 07:54:58</td>\n      <td>2016-05-21 08:20:49</td>\n      <td>1</td>\n      <td>-73.969276</td>\n      <td>40.797779</td>\n      <td>-73.922470</td>\n      <td>40.760559</td>\n      <td>N</td>\n      <td>1551</td>\n    </tr>\n    <tr>\n      <th>8</th>\n      <td>id1301050</td>\n      <td>1</td>\n      <td>2016-05-27 23:12:23</td>\n      <td>2016-05-27 23:16:38</td>\n      <td>1</td>\n      <td>-73.999481</td>\n      <td>40.738400</td>\n      <td>-73.985786</td>\n      <td>40.732815</td>\n      <td>N</td>\n      <td>255</td>\n    </tr>\n    <tr>\n      <th>9</th>\n      <td>id0012891</td>\n      <td>2</td>\n      <td>2016-03-10 21:45:01</td>\n      <td>2016-03-10 22:05:26</td>\n      <td>1</td>\n      <td>-73.981049</td>\n      <td>40.744339</td>\n      <td>-73.973000</td>\n      <td>40.789989</td>\n      <td>N</td>\n      <td>1225</td>\n    </tr>\n  </tbody>\n</table>\n</div>"
     },
     "metadata": {}
    }
   ]
  },
  {
   "cell_type": "markdown",
   "source": "## Haversine function",
   "metadata": {
    "cell_id": "00001-6334564d-6318-4f10-a6e6-e3d93a7a6a94",
    "deepnote_cell_type": "markdown",
    "deepnote_cell_height": 70
   }
  },
  {
   "cell_type": "code",
   "metadata": {
    "cell_id": "00002-df78073e-78e4-40b0-9427-b1d29be25f4c",
    "deepnote_to_be_reexecuted": false,
    "source_hash": "ebd31a66",
    "execution_start": 1656625006656,
    "execution_millis": 2,
    "deepnote_cell_type": "code",
    "deepnote_cell_height": 207
   },
   "source": "def haversine_np(lon1, lat1, lon2, lat2):\n    lon1, lat1, lon2, lat2 = map(np.radians, [lon1, lat1, lon2, lat2])\n    dlon = lon2 - lon1\n    dlat = lat2 - lat1\n    a = np.sin(dlat/2.0)**2 + np.cos(lat1) * np.cos(lat2) * np.sin(dlon/2.0)**2\n    c = 2 * np.arcsin(np.sqrt(a))\n    km = 6367 * c\n    return km",
   "execution_count": 2,
   "outputs": []
  },
  {
   "cell_type": "markdown",
   "source": "# Question 1",
   "metadata": {
    "cell_id": "00003-dbbb5a10-a5c0-4336-8297-b0b20ad3b0bd",
    "deepnote_cell_type": "markdown",
    "deepnote_cell_height": 82
   }
  },
  {
   "cell_type": "code",
   "metadata": {
    "cell_id": "00004-a1988fc3-949c-49bd-add8-464b5ee9b3cb",
    "deepnote_to_be_reexecuted": false,
    "source_hash": "8dfdffa5",
    "execution_start": 1656625006662,
    "execution_millis": 991,
    "deepnote_cell_type": "code",
    "deepnote_cell_height": 297
   },
   "source": "# Dropping all rows where trip duration is <10 seconds. <10 seconds seems reasonable threshold\ndf = df.loc[df['trip_duration'] > 10]\n\n# Forming distance column using haversine method\ndf['distance'] = haversine_np(df['pickup_longitude'],df['pickup_latitude'],df['dropoff_longitude'],df['dropoff_latitude'])\n\n# Dropping all rows where the distance is less than 50 meters. <50 meters seems reasonable threshold\ndf = df.loc[df['distance'] > 0.05]\n\n# Dropping all rows where passengers > 6\n# On uber website max passengers is 5 but pre corona might have been more. 6 Seems reasonable threshold\n# https://www.uber.com/global/en/cities/new-york/\ndf = df.loc[df['passenger_count'] <= 6]",
   "execution_count": 3,
   "outputs": []
  },
  {
   "cell_type": "markdown",
   "source": "# Question 2",
   "metadata": {
    "cell_id": "00005-a32210d6-b295-4d4d-87f0-13c322533840",
    "deepnote_cell_type": "markdown",
    "deepnote_cell_height": 82
   }
  },
  {
   "cell_type": "code",
   "metadata": {
    "cell_id": "00006-97478869-28ea-4f1c-8c90-11b923c0a4c8",
    "deepnote_to_be_reexecuted": false,
    "source_hash": "2540a213",
    "execution_start": 1656625008274,
    "execution_millis": 1786,
    "deepnote_cell_type": "code",
    "deepnote_cell_height": 261
   },
   "source": "# Distance column already formed in the above question (Question 1)\n\n# Converting object columns to datetime columns\ndf['dropoff_datetime']= pd.to_datetime(df['dropoff_datetime'])\ndf['pickup_datetime']= pd.to_datetime(df['pickup_datetime'])\n\n# Adding day of the week column\ndf['day_of_week'] = df['dropoff_datetime'].dt.day_name()\n\n# Adding average speed column\ndf['average_speed'] = (df['distance']/df['trip_duration'])*3600",
   "execution_count": 4,
   "outputs": []
  },
  {
   "cell_type": "markdown",
   "source": "# Question 3",
   "metadata": {
    "cell_id": "00007-c5cb03cb-dbf5-426b-afa1-52d05349b1c7",
    "deepnote_cell_type": "markdown",
    "deepnote_cell_height": 82
   }
  },
  {
   "cell_type": "markdown",
   "source": "## Question 3.1",
   "metadata": {
    "cell_id": "00008-e319cdd2-4b0c-4445-86d0-61211f4d1eb6",
    "deepnote_cell_type": "markdown",
    "deepnote_cell_height": 70
   }
  },
  {
   "cell_type": "code",
   "metadata": {
    "cell_id": "00009-bd4be69e-ff63-4a3d-8c27-fdb9ba9835a7",
    "deepnote_to_be_reexecuted": false,
    "source_hash": "3b19206",
    "execution_start": 1656625010094,
    "execution_millis": 1297,
    "deepnote_cell_type": "code",
    "deepnote_cell_height": 585.1875,
    "deepnote_output_heights": [
     21.1875,
     328
    ]
   },
   "source": "#Plot day distribution\nday_distribution = df.groupby(['day_of_week'])['day_of_week'].size()\ngraph = day_distribution.plot.bar()\ngraph.set_xlabel(\"Day of the week\")\ngraph.set_xlabel(\"Rides Called\")\ngraph.set_title(\"Day distribution of rides\")\n# Fridays and Saturdays seem to be the most popular",
   "execution_count": 5,
   "outputs": [
    {
     "output_type": "execute_result",
     "execution_count": 5,
     "data": {
      "text/plain": "Text(0.5, 1.0, 'Day distribution of rides')"
     },
     "metadata": {}
    },
    {
     "data": {
      "text/plain": "<Figure size 432x288 with 1 Axes>",
      "image/png": "[encoded data removed]"
     },
     "metadata": {
      "needs_background": "light",
      "image/png": {
       "width": 393,
       "height": 326
      }
     },
     "output_type": "display_data"
    }
   ]
  },
  {
   "cell_type": "markdown",
   "source": "## Question 3.2",
   "metadata": {
    "cell_id": "00010-1a23521f-fda8-4893-8fb4-a820c510c79d",
    "deepnote_cell_type": "markdown",
    "deepnote_cell_height": 70
   }
  },
  {
   "cell_type": "code",
   "metadata": {
    "cell_id": "00011-5965008e-e1d7-49f2-a1d1-9c6314f0bd71",
    "deepnote_to_be_reexecuted": false,
    "source_hash": "6369a45f",
    "execution_start": 1656625010684,
    "execution_millis": 574,
    "deepnote_cell_type": "code",
    "deepnote_cell_height": 153
   },
   "source": "df['hour'] = df['dropoff_datetime'].dt.hour\n# Grouping by day and then hour\nday_hour_groupby = df.groupby(['day_of_week','hour'])['day_of_week'].size()\nday_hour_groupby.index = day_hour_groupby.index.set_names(['day','hours'])\nday_hour_groupby = day_hour_groupby.reset_index()",
   "execution_count": 6,
   "outputs": []
  },
  {
   "cell_type": "code",
   "metadata": {
    "cell_id": "00012-96200361-d21c-47ac-bf94-ba6ca2e9f5c6",
    "deepnote_to_be_reexecuted": false,
    "source_hash": "63d8c288",
    "execution_start": 1656625011268,
    "execution_millis": 2,
    "deepnote_cell_type": "code",
    "deepnote_cell_height": 207
   },
   "source": "# Getting all the subsets for days of the week\nMonday = day_hour_groupby.loc[day_hour_groupby['day'] ==\"Monday\"]\nTuesday = day_hour_groupby.loc[day_hour_groupby['day']==\"Tuesday\"]\nWednesday = day_hour_groupby.loc[day_hour_groupby['day']==\"Wednesday\"]\nThursday = day_hour_groupby.loc[day_hour_groupby['day']==\"Thursday\"]\nFriday = day_hour_groupby.loc[day_hour_groupby['day']==\"Friday\"]\nSaturday = day_hour_groupby.loc[day_hour_groupby['day']==\"Saturday\"]\nSunday = day_hour_groupby.loc[day_hour_groupby['day']==\"Sunday\"]",
   "execution_count": 7,
   "outputs": []
  },
  {
   "cell_type": "code",
   "metadata": {
    "cell_id": "00013-b3f99bc0-7570-463a-bd9f-6340b36d615a",
    "deepnote_to_be_reexecuted": false,
    "source_hash": "7f07ac41",
    "execution_start": 1656625011274,
    "execution_millis": 3895,
    "deepnote_cell_type": "code",
    "deepnote_cell_height": 3143,
    "deepnote_output_heights": [
     280,
     280,
     280,
     280,
     280,
     280,
     280
    ]
   },
   "source": "# Plotting \nx = [0,1,2,3,4,5,6,7,8,9,10,11,12,13,14,15,16,17,18,19,20,21,22,23]\ny = Monday['day_of_week'].values\nplt.xlabel(\"Hours\")\nplt.ylabel(\"Number of Rides\")\nplt.title(\"Monday\")\nplt.bar(x,y)\nplt.xticks(x)\nplt.show()\ny = Tuesday['day_of_week'].values\nplt.xlabel(\"Hours\")\nplt.ylabel(\"Number of Rides\")\nplt.title(\"Tuesday\")\nplt.bar(x,y)\nplt.xticks(x)\nplt.show()\ny = Wednesday['day_of_week'].values\nplt.xlabel(\"Hours\")\nplt.ylabel(\"Number of Rides\")\nplt.title(\"Wednesday\")\nplt.bar(x,y)\nplt.xticks(x)\nplt.show()\ny = Thursday['day_of_week'].values\nplt.xlabel(\"Hours\")\nplt.ylabel(\"Number of Rides\")\nplt.title(\"Thursday\")\nplt.bar(x,y)\nplt.xticks(x)\nplt.show()\ny = Friday['day_of_week'].values\nplt.xlabel(\"Hours\")\nplt.ylabel(\"Number of Rides\")\nplt.title(\"Friday\")\nplt.bar(x,y)\nplt.xticks(x)\nplt.show()\ny = Saturday['day_of_week'].values\nplt.xlabel(\"Hours\")\nplt.ylabel(\"Number of Rides\")\nplt.title(\"Saturday\")\nplt.bar(x,y)\nplt.xticks(x)\nplt.show()\ny = Sunday['day_of_week'].values\nplt.xlabel(\"Hours\")\nplt.ylabel(\"Number of Rides\")\nplt.title(\"Sunday\")\nplt.bar(x,y)\nplt.xticks(x)\nplt.show()",
   "execution_count": 8,
   "outputs": [
    {
     "data": {
      "text/plain": "<Figure size 432x288 with 1 Axes>",
      "image/png": "[encoded data removed]"
     },
     "metadata": {
      "needs_background": "light",
      "image/png": {
       "width": 401,
       "height": 278
      }
     },
     "output_type": "display_data"
    },
    {
     "data": {
      "text/plain": "<Figure size 432x288 with 1 Axes>",
      "image/png": "[encoded data removed]"
     },
     "metadata": {
      "needs_background": "light",
      "image/png": {
       "width": 401,
       "height": 278
      }
     },
     "output_type": "display_data"
    },
    {
     "data": {
      "text/plain": "<Figure size 432x288 with 1 Axes>",
      "image/png": "[encoded data removed]"
     },
     "metadata": {
      "needs_background": "light",
      "image/png": {
       "width": 401,
       "height": 278
      }
     },
     "output_type": "display_data"
    },
    {
     "data": {
      "text/plain": "<Figure size 432x288 with 1 Axes>",
      "image/png": "[encoded data removed]"
     },
     "metadata": {
      "needs_background": "light",
      "image/png": {
       "width": 401,
       "height": 278
      }
     },
     "output_type": "display_data"
    },
    {
     "data": {
      "text/plain": "<Figure size 432x288 with 1 Axes>",
      "image/png": "[encoded data removed]"
     },
     "metadata": {
      "needs_background": "light",
      "image/png": {
       "width": 401,
       "height": 278
      }
     },
     "output_type": "display_data"
    },
    {
     "data": {
      "text/plain": "<Figure size 432x288 with 1 Axes>",
      "image/png": "[encoded data removed]"
     },
     "metadata": {
      "needs_background": "light",
      "image/png": {
       "width": 401,
       "height": 278
      }
     },
     "output_type": "display_data"
    },
    {
     "data": {
      "text/plain": "<Figure size 432x288 with 1 Axes>",
      "image/png": "[encoded data removed]"
     },
     "metadata": {
      "needs_background": "light",
      "image/png": {
       "width": 401,
       "height": 278
      }
     },
     "output_type": "display_data"
    }
   ]
  },
  {
   "cell_type": "code",
   "metadata": {
    "cell_id": "00014-1ef3f0ff-9693-40d7-aa07-ed092777c2d3",
    "deepnote_to_be_reexecuted": false,
    "source_hash": "19cd076d",
    "execution_start": 1656625015173,
    "execution_millis": 4,
    "deepnote_cell_type": "code",
    "deepnote_cell_height": 153
   },
   "source": "# Every day except Sunday, 19:00 is the most popular hour\n# On Sunday it is Midnight\n# This makes sense because people go out on the weekends at night \n# In most days except those closer to the weekend we see a drop in rides in the early hours of the morning\n# This makes sense because nobody is calling an uber at that time, no reason to. ",
   "execution_count": 9,
   "outputs": []
  },
  {
   "cell_type": "markdown",
   "source": "## Question 3.3",
   "metadata": {
    "cell_id": "00015-8ceba422-b5d3-4c67-a6c9-98125a7d8b9f",
    "deepnote_cell_type": "markdown",
    "deepnote_cell_height": 70
   }
  },
  {
   "cell_type": "code",
   "metadata": {
    "cell_id": "00016-d4443d12-447a-41d5-9125-5e94d80cfcc3",
    "deepnote_to_be_reexecuted": false,
    "source_hash": "3ce5d75c",
    "execution_start": 1656625015181,
    "execution_millis": 2,
    "deepnote_cell_type": "code",
    "deepnote_cell_height": 117
   },
   "source": "# During the weekdays in general, we see that there is not many rides being called late at night and in the early hours of the moring\n# And during the weekends we see activity in the late hours of the night as well as early hours of the morning\n# This makes sense because most people go out during the weekends so people call Ubers to get back home after partying",
   "execution_count": 10,
   "outputs": []
  },
  {
   "cell_type": "markdown",
   "source": "## Question 3.4",
   "metadata": {
    "cell_id": "00017-297b3c97-110f-4a83-9969-42f8a0b23870",
    "deepnote_cell_type": "markdown",
    "deepnote_cell_height": 70
   }
  },
  {
   "cell_type": "code",
   "metadata": {
    "cell_id": "00018-20f91965-1a1c-4bf0-95f0-041de1c076c9",
    "deepnote_to_be_reexecuted": false,
    "source_hash": "3a71198",
    "execution_start": 1656625015230,
    "execution_millis": 1953,
    "deepnote_cell_type": "code",
    "deepnote_cell_height": 594.1875,
    "deepnote_output_heights": [
     21.1875,
     283
    ]
   },
   "source": "# Getting St Patricks Subset\n\ndate = '2016/03/17'\ndate = datetime.strptime(date, '%Y/%m/%d')\nst_patricks = df.loc[df['pickup_datetime'].dt.date==date.date()]\nst_patricks = st_patricks.groupby(['hour']).size()\ngraph = st_patricks.plot.bar()\ngraph.set_xlabel(\"Hour\")\ngraph.set_ylabel(\"Rides Called\")\ngraph.set_title(\"St Patricks Day\")",
   "execution_count": 11,
   "outputs": [
    {
     "output_type": "execute_result",
     "execution_count": 11,
     "data": {
      "text/plain": "Text(0.5, 1.0, 'St Patricks Day')"
     },
     "metadata": {}
    },
    {
     "data": {
      "text/plain": "<Figure size 432x288 with 1 Axes>",
      "image/png": "[encoded data removed]"
     },
     "metadata": {
      "needs_background": "light",
      "image/png": {
       "width": 389,
       "height": 281
      }
     },
     "output_type": "display_data"
    }
   ]
  },
  {
   "cell_type": "code",
   "metadata": {
    "cell_id": "00019-633df904-5ce4-4788-94cf-818b7af2a08c",
    "deepnote_to_be_reexecuted": false,
    "source_hash": "1b0021ac",
    "execution_start": 1656625017187,
    "execution_millis": 1799,
    "deepnote_cell_type": "code",
    "deepnote_cell_height": 594,
    "deepnote_output_heights": [
     21,
     283
    ]
   },
   "source": "# Getting Easter Subset\n\ndate = '2016/03/27'\ndate = datetime.strptime(date, '%Y/%m/%d')\nst_patricks = df.loc[df['pickup_datetime'].dt.date==date.date()]\nst_patricks = st_patricks.groupby(['hour']).size()\ngraph = st_patricks.plot.bar()\ngraph.set_xlabel(\"Hour\")\ngraph.set_ylabel(\"Rides Called\")\ngraph.set_title(\"Easter\")",
   "execution_count": 12,
   "outputs": [
    {
     "output_type": "execute_result",
     "execution_count": 12,
     "data": {
      "text/plain": "Text(0.5, 1.0, 'Easter')"
     },
     "metadata": {}
    },
    {
     "data": {
      "text/plain": "<Figure size 432x288 with 1 Axes>",
      "image/png": "[encoded data removed]"
     },
     "metadata": {
      "needs_background": "light",
      "image/png": {
       "width": 389,
       "height": 281
      }
     },
     "output_type": "display_data"
    }
   ]
  },
  {
   "cell_type": "code",
   "metadata": {
    "cell_id": "00020-2e6e3ce5-c8ec-428a-902b-5f10b6b13cb1",
    "deepnote_to_be_reexecuted": false,
    "source_hash": "a2de84ff",
    "execution_start": 1656625018990,
    "execution_millis": 1292,
    "deepnote_cell_type": "code",
    "deepnote_cell_height": 594.1875,
    "deepnote_output_heights": [
     21.1875,
     283
    ]
   },
   "source": "# Getting Memorial Day Subset\n\ndate = '2016/05/30'\ndate = datetime.strptime(date, '%Y/%m/%d')\nst_patricks = df.loc[df['pickup_datetime'].dt.date==date.date()]\nst_patricks = st_patricks.groupby(['hour']).size()\ngraph = st_patricks.plot.bar()\ngraph.set_xlabel(\"Hour\")\ngraph.set_ylabel(\"Rides Called\")\ngraph.set_title(\"Memorial Day\")",
   "execution_count": 13,
   "outputs": [
    {
     "output_type": "execute_result",
     "execution_count": 13,
     "data": {
      "text/plain": "Text(0.5, 1.0, 'Memorial Day')"
     },
     "metadata": {}
    },
    {
     "data": {
      "text/plain": "<Figure size 432x288 with 1 Axes>",
      "image/png": "[encoded data removed]"
     },
     "metadata": {
      "needs_background": "light",
      "image/png": {
       "width": 389,
       "height": 281
      }
     },
     "output_type": "display_data"
    }
   ]
  },
  {
   "cell_type": "code",
   "metadata": {
    "cell_id": "00021-93e3b9b7-3b7d-4725-9a9f-b2ad1f93efd2",
    "deepnote_to_be_reexecuted": false,
    "source_hash": "863c946c",
    "execution_start": 1656625020285,
    "execution_millis": 2289,
    "deepnote_cell_type": "code",
    "deepnote_cell_height": 594,
    "deepnote_output_heights": [
     21,
     283
    ]
   },
   "source": "# Getting Valentines Day Subset\n\ndate = '2016/02/14'\ndate = datetime.strptime(date, '%Y/%m/%d')\nst_patricks = df.loc[df['pickup_datetime'].dt.date==date.date()]\nst_patricks = st_patricks.groupby(['hour']).size()\ngraph = st_patricks.plot.bar()\ngraph.set_xlabel(\"Hour\")\ngraph.set_ylabel(\"Rides Called\")\ngraph.set_title(\"Valentines Day\")",
   "execution_count": 14,
   "outputs": [
    {
     "output_type": "execute_result",
     "execution_count": 14,
     "data": {
      "text/plain": "Text(0.5, 1.0, 'Valentines Day')"
     },
     "metadata": {}
    },
    {
     "data": {
      "text/plain": "<Figure size 432x288 with 1 Axes>",
      "image/png": "[encoded data removed]"
     },
     "metadata": {
      "needs_background": "light",
      "image/png": {
       "width": 389,
       "height": 281
      }
     },
     "output_type": "display_data"
    }
   ]
  },
  {
   "cell_type": "code",
   "metadata": {
    "cell_id": "00022-bfb48720-0a02-4504-b940-5dcc899a5dc2",
    "deepnote_to_be_reexecuted": false,
    "source_hash": "a3ff10f1",
    "execution_start": 1656625022130,
    "execution_millis": 1536,
    "deepnote_cell_type": "code",
    "deepnote_cell_height": 594,
    "deepnote_output_heights": [
     21,
     283
    ]
   },
   "source": "# Getting Martin Luther King day Subset\n\ndate = '2016/01/18'\ndate = datetime.strptime(date, '%Y/%m/%d')\nst_patricks = df.loc[df['pickup_datetime'].dt.date==date.date()]\nst_patricks = st_patricks.groupby(['hour']).size()\ngraph = st_patricks.plot.bar()\ngraph.set_xlabel(\"Hour\")\ngraph.set_ylabel(\"Rides Called\")\ngraph.set_title(\"Martin Luther King\")",
   "execution_count": 15,
   "outputs": [
    {
     "output_type": "execute_result",
     "execution_count": 15,
     "data": {
      "text/plain": "Text(0.5, 1.0, 'Martin Luther King')"
     },
     "metadata": {}
    },
    {
     "data": {
      "text/plain": "<Figure size 432x288 with 1 Axes>",
      "image/png": "[encoded data removed]"
     },
     "metadata": {
      "needs_background": "light",
      "image/png": {
       "width": 389,
       "height": 281
      }
     },
     "output_type": "display_data"
    }
   ]
  },
  {
   "cell_type": "code",
   "metadata": {
    "cell_id": "00023-5f0d5892-44ab-4c26-9953-8750fd1f013d",
    "deepnote_to_be_reexecuted": false,
    "source_hash": "37bcd501",
    "execution_start": 1656625023668,
    "execution_millis": 3043190,
    "deepnote_cell_type": "code",
    "deepnote_cell_height": 135
   },
   "source": "# For Martin Luther King day and St Patricks day there is not really much change\n# However for Valentines Day, Memorial day and Easter there is particularly a higher amount of rides late in the night and early in the morning\n# The latter group of days are also more festive and celebratory rather than the former \n# This makes sense because more people when out during those days",
   "execution_count": 16,
   "outputs": []
  },
  {
   "cell_type": "markdown",
   "source": "## Question 3.5",
   "metadata": {
    "cell_id": "00024-8f7290d3-03b5-4686-8ab4-82582d829f35",
    "deepnote_cell_type": "markdown",
    "deepnote_cell_height": 70
   }
  },
  {
   "cell_type": "code",
   "metadata": {
    "cell_id": "00025-28baac99-71e8-49df-8047-84803a9e7971",
    "deepnote_to_be_reexecuted": false,
    "source_hash": "493ae568",
    "execution_start": 1656625023674,
    "execution_millis": 571,
    "deepnote_cell_type": "code",
    "deepnote_cell_height": 504,
    "deepnote_output_heights": [
     21,
     283
    ]
   },
   "source": "subset = df.groupby(['hour']).average_speed.agg('mean')\ngraph = subset.plot.bar()\ngraph.set_xlabel(\"Hour\")\ngraph.set_ylabel(\"Average Speed\")\ngraph.set_title(\"Average speed per hour\")",
   "execution_count": 17,
   "outputs": [
    {
     "output_type": "execute_result",
     "execution_count": 17,
     "data": {
      "text/plain": "Text(0.5, 1.0, 'Average speed per hour')"
     },
     "metadata": {}
    },
    {
     "data": {
      "text/plain": "<Figure size 432x288 with 1 Axes>",
      "image/png": "[encoded data removed]"
     },
     "metadata": {
      "needs_background": "light",
      "image/png": {
       "width": 382,
       "height": 281
      }
     },
     "output_type": "display_data"
    }
   ]
  },
  {
   "cell_type": "code",
   "metadata": {
    "cell_id": "00026-b3db007f-1069-4282-b303-114f21e1d7fa",
    "deepnote_to_be_reexecuted": false,
    "source_hash": "a22d3bee",
    "execution_start": 1656625024247,
    "execution_millis": 8,
    "deepnote_cell_type": "code",
    "deepnote_cell_height": 117
   },
   "source": "# Trips are fastest at night compared to day\n# This partially makes sense because during the day there is traffic so you might not be able to drive fast\n# But driving fast at night is a little dangerous although I guess you can because there will not be any traffic",
   "execution_count": 18,
   "outputs": []
  },
  {
   "cell_type": "markdown",
   "source": "# Question 4",
   "metadata": {
    "cell_id": "00027-9e7aa510-f71b-4fe8-9293-8fbf7549e4e0",
    "deepnote_cell_type": "markdown",
    "deepnote_cell_height": 82
   }
  },
  {
   "cell_type": "markdown",
   "source": "## Question 4.1",
   "metadata": {
    "cell_id": "00028-8cfef40a-78d0-4225-b73d-b036fe8d87d4",
    "deepnote_cell_type": "markdown",
    "deepnote_cell_height": 70
   }
  },
  {
   "cell_type": "code",
   "metadata": {
    "cell_id": "00029-a20c0a53-4614-42c3-810a-e72fff949319",
    "deepnote_to_be_reexecuted": false,
    "source_hash": "f6421031",
    "execution_start": 1656625024256,
    "execution_millis": 1467,
    "deepnote_cell_type": "code",
    "deepnote_cell_height": 731,
    "deepnote_output_heights": [
     328
    ]
   },
   "source": "day_hour_groupby = df.groupby(['day_of_week','hour'])['day_of_week'].size()\nday_hour_groupby.index = day_hour_groupby.index.set_names(['day','hours'])\nday_hour_groupby = day_hour_groupby.reset_index()\n\nMonday = day_hour_groupby.loc[day_hour_groupby['day'] ==\"Monday\"].values\nTuesday = day_hour_groupby.loc[day_hour_groupby['day']==\"Tuesday\"].values\nWednesday = day_hour_groupby.loc[day_hour_groupby['day']==\"Wednesday\"].values\nThursday = day_hour_groupby.loc[day_hour_groupby['day']==\"Thursday\"].values\nFriday = day_hour_groupby.loc[day_hour_groupby['day']==\"Friday\"].values\nSaturday = day_hour_groupby.loc[day_hour_groupby['day']==\"Saturday\"].values\nSunday = day_hour_groupby.loc[day_hour_groupby['day']==\"Sunday\"].values\n\ndata = np.vstack((Monday[0:24,2],Tuesday[0:24,2],Wednesday[0:24,2],Thursday[0:24,2],Friday[0:24,2],Saturday[0:24,2],Sunday[0:24,2])).T\ndata =  data.astype('float64')\nx_axis_labels = [\"Monday\",\"Tuesday\",\"Wednesday\",\"Thursday\",\"Friday\",\"Saturday\",\"Sunday\"]\nplot = sns.heatmap(data,xticklabels=x_axis_labels, yticklabels=True)\nplot.set(xlabel='Day of the week', ylabel='Hour',title=\"Weekdays and Weekends Heatmap\")\nplot.invert_yaxis()",
   "execution_count": 19,
   "outputs": [
    {
     "data": {
      "text/plain": "<Figure size 432x288 with 2 Axes>",
      "image/png": "[encoded data removed]"
     },
     "metadata": {
      "needs_background": "light",
      "image/png": {
       "width": 382,
       "height": 326
      }
     },
     "output_type": "display_data"
    }
   ]
  },
  {
   "cell_type": "code",
   "metadata": {
    "cell_id": "00030-dfd823d4-464e-4f7d-aac3-061d7898d251",
    "deepnote_to_be_reexecuted": false,
    "source_hash": "36d79978",
    "execution_start": 1656625025472,
    "execution_millis": 785,
    "deepnote_cell_type": "code",
    "deepnote_cell_height": 803,
    "deepnote_output_heights": [
     328
    ]
   },
   "source": "# Morning hours are from 7am to 11am\nmorning_subset = df.loc[(df['hour']>=7) & (df['hour']<=11)]\n\nday_hour_groupby = morning_subset.groupby(['day_of_week','hour'])['day_of_week'].size()\nday_hour_groupby.index = day_hour_groupby.index.set_names(['day','hours'])\nday_hour_groupby = day_hour_groupby.reset_index()\n\nMonday = day_hour_groupby.loc[day_hour_groupby['day'] ==\"Monday\"].values\nTuesday = day_hour_groupby.loc[day_hour_groupby['day']==\"Tuesday\"].values\nWednesday = day_hour_groupby.loc[day_hour_groupby['day']==\"Wednesday\"].values\nThursday = day_hour_groupby.loc[day_hour_groupby['day']==\"Thursday\"].values\nFriday = day_hour_groupby.loc[day_hour_groupby['day']==\"Friday\"].values\nSaturday = day_hour_groupby.loc[day_hour_groupby['day']==\"Saturday\"].values\nSunday = day_hour_groupby.loc[day_hour_groupby['day']==\"Sunday\"].values\n\ndata = np.vstack((Monday[0:24,2],Tuesday[0:24,2],Wednesday[0:24,2],Thursday[0:24,2],Friday[0:24,2],Saturday[0:24,2],Sunday[0:24,2])).T\ndata =  data.astype('float64')\nx_axis_labels = [\"Monday\",\"Tuesday\",\"Wednesday\",\"Thursday\",\"Friday\",\"Saturday\",\"Sunday\"]\ny_axis_labels = [\"7am\",\"8am\",\"9am\",\"10am\",\"11am\"]\nplot = sns.heatmap(data,xticklabels=x_axis_labels, yticklabels=y_axis_labels)\nplot.set(xlabel='Day of the week', ylabel='Hour',title=\"Morning Hours Heatmap\")\nplot.invert_yaxis()",
   "execution_count": 20,
   "outputs": [
    {
     "data": {
      "text/plain": "<Figure size 432x288 with 2 Axes>",
      "image/png": "[encoded data removed]"
     },
     "metadata": {
      "needs_background": "light",
      "image/png": {
       "width": 379,
       "height": 326
      }
     },
     "output_type": "display_data"
    }
   ]
  },
  {
   "cell_type": "code",
   "metadata": {
    "cell_id": "00031-fc9db79b-d870-459c-a906-c7b937966794",
    "deepnote_to_be_reexecuted": false,
    "source_hash": "9a2ba73a",
    "execution_start": 1656625026259,
    "execution_millis": 717,
    "deepnote_cell_type": "code",
    "deepnote_cell_height": 803,
    "deepnote_output_heights": [
     328
    ]
   },
   "source": "# Afternoon hours are from 1pm to 5pm\nafternoon_subset = df.loc[(df['hour']>=13) & (df['hour']<=17)]\n\nday_hour_groupby = afternoon_subset.groupby(['day_of_week','hour'])['day_of_week'].size()\nday_hour_groupby.index = day_hour_groupby.index.set_names(['day','hours'])\nday_hour_groupby = day_hour_groupby.reset_index()\n\nMonday = day_hour_groupby.loc[day_hour_groupby['day'] ==\"Monday\"].values\nTuesday = day_hour_groupby.loc[day_hour_groupby['day']==\"Tuesday\"].values\nWednesday = day_hour_groupby.loc[day_hour_groupby['day']==\"Wednesday\"].values\nThursday = day_hour_groupby.loc[day_hour_groupby['day']==\"Thursday\"].values\nFriday = day_hour_groupby.loc[day_hour_groupby['day']==\"Friday\"].values\nSaturday = day_hour_groupby.loc[day_hour_groupby['day']==\"Saturday\"].values\nSunday = day_hour_groupby.loc[day_hour_groupby['day']==\"Sunday\"].values\n\ndata = np.vstack((Monday[0:24,2],Tuesday[0:24,2],Wednesday[0:24,2],Thursday[0:24,2],Friday[0:24,2],Saturday[0:24,2],Sunday[0:24,2])).T\ndata =  data.astype('float64')\nx_axis_labels = [\"Monday\",\"Tuesday\",\"Wednesday\",\"Thursday\",\"Friday\",\"Saturday\",\"Sunday\"]\ny_axis_labels = [\"1pm\",\"2pm\",\"3pm\",\"4pm\",\"5pm\"]\nplot = sns.heatmap(data,xticklabels=x_axis_labels, yticklabels=y_axis_labels)\nplot.set(xlabel='Day of the week', ylabel='Hour',title=\"Afternoon Hours Heatmap\")\nplot.invert_yaxis()",
   "execution_count": 21,
   "outputs": [
    {
     "data": {
      "text/plain": "<Figure size 432x288 with 2 Axes>",
      "image/png": "[encoded data removed]"
     },
     "metadata": {
      "needs_background": "light",
      "image/png": {
       "width": 379,
       "height": 326
      }
     },
     "output_type": "display_data"
    }
   ]
  },
  {
   "cell_type": "markdown",
   "source": "## Question 4.2",
   "metadata": {
    "cell_id": "00032-82ab2968-ea26-4f26-9617-b4b971e89e98",
    "deepnote_cell_type": "markdown",
    "deepnote_cell_height": 70
   }
  },
  {
   "cell_type": "code",
   "metadata": {
    "cell_id": "00034-12f329f2-969c-4e0b-8db5-8633733b8e05",
    "deepnote_to_be_reexecuted": false,
    "source_hash": "c3b3dbe3",
    "execution_start": 1656625026982,
    "execution_millis": 5704,
    "deepnote_cell_type": "code",
    "deepnote_cell_height": 333
   },
   "source": "#Create filters for dates and times\nstart_fri = datetime.strptime('23:00:00', '%H:%M:%S').time()\nend_fri = datetime.strptime('23:59:59', '%H:%M:%S').time()\nstart_sat = datetime.strptime('00:00:00', '%H:%M:%S').time()\nend_sat = datetime.strptime('02:00:00', '%H:%M:%S').time()\n\nfriday_mask = (df[\"pickup_datetime\"].dt.weekday == 5) & (df[\"pickup_datetime\"].dt.time.between(start_fri, end_fri))\nsaturday_mask =  (df[\"pickup_datetime\"].dt.weekday == 6) & (df[\"pickup_datetime\"].dt.time.between(start_sat, end_sat))\n\n\nstart_thur = datetime.strptime('17:00:00', '%H:%M:%S').time()\nend_thur = datetime.strptime('20:00:00', '%H:%M:%S').time()\nthursday_mask = (df[\"pickup_datetime\"].dt.weekday == 4) & (df[\"pickup_datetime\"].dt.time.between(start_thur, end_thur))\n\nnew_df = df[friday_mask | saturday_mask | thursday_mask]",
   "execution_count": 22,
   "outputs": []
  },
  {
   "cell_type": "code",
   "metadata": {
    "cell_id": "00035-7555e971-d0b0-470b-bf9c-d71f8c110515",
    "deepnote_to_be_reexecuted": false,
    "source_hash": "253837eb",
    "execution_start": 1656625032688,
    "execution_millis": 778,
    "deepnote_cell_type": "code",
    "deepnote_cell_height": 81,
    "deepnote_output_heights": [
     177
    ]
   },
   "source": "from sklearn.cluster import DBSCAN",
   "execution_count": 23,
   "outputs": []
  },
  {
   "cell_type": "code",
   "source": "kms_per_radian = 6371.0088\nepsilon = new_df[\"distance\"].max() / kms_per_radian\ndb = DBSCAN(eps=epsilon, min_samples=2, algorithm=\"ball_tree\", metric=\"haversine\")\npoints = np.array(new_df[[\"pickup_longitude\",\"pickup_latitude\"]], dtype=\"float64\")\ndb.fit(np.radians(points))",
   "metadata": {
    "cell_id": "e8ddf75e85ae4f7db7e5a6f3ea377bdc",
    "tags": [],
    "deepnote_to_be_reexecuted": false,
    "source_hash": "ee6a2a61",
    "execution_start": 1656624984561,
    "execution_millis": 849,
    "deepnote_cell_type": "code",
    "deepnote_cell_height": 216.1875
   },
   "outputs": [
    {
     "output_type": "error",
     "ename": "NameError",
     "evalue": "name 'new_df' is not defined",
     "traceback": [
      "\u001b[0;31m---------------------------------------------------------------------------\u001b[0m",
      "\u001b[0;31mNameError\u001b[0m                                 Traceback (most recent call last)",
      "\u001b[0;32m<ipython-input-5-3792fdf00e1d>\u001b[0m in \u001b[0;36m<cell line: 2>\u001b[0;34m()\u001b[0m\n\u001b[1;32m      1\u001b[0m \u001b[0mkms_per_radian\u001b[0m \u001b[0;34m=\u001b[0m \u001b[0;36m6371.0088\u001b[0m\u001b[0;34m\u001b[0m\u001b[0;34m\u001b[0m\u001b[0m\n\u001b[0;32m----> 2\u001b[0;31m \u001b[0mepsilon\u001b[0m \u001b[0;34m=\u001b[0m \u001b[0mnew_df\u001b[0m\u001b[0;34m[\u001b[0m\u001b[0;34m\"distance\"\u001b[0m\u001b[0;34m]\u001b[0m\u001b[0;34m.\u001b[0m\u001b[0mmax\u001b[0m\u001b[0;34m(\u001b[0m\u001b[0;34m)\u001b[0m \u001b[0;34m/\u001b[0m \u001b[0mkms_per_radian\u001b[0m\u001b[0;34m\u001b[0m\u001b[0;34m\u001b[0m\u001b[0m\n\u001b[0m\u001b[1;32m      3\u001b[0m \u001b[0mdb\u001b[0m \u001b[0;34m=\u001b[0m \u001b[0mDBSCAN\u001b[0m\u001b[0;34m(\u001b[0m\u001b[0meps\u001b[0m\u001b[0;34m=\u001b[0m\u001b[0mepsilon\u001b[0m\u001b[0;34m,\u001b[0m \u001b[0mmin_samples\u001b[0m\u001b[0;34m=\u001b[0m\u001b[0;36m2\u001b[0m\u001b[0;34m,\u001b[0m \u001b[0malgorithm\u001b[0m\u001b[0;34m=\u001b[0m\u001b[0;34m\"ball_tree\"\u001b[0m\u001b[0;34m,\u001b[0m \u001b[0mmetric\u001b[0m\u001b[0;34m=\u001b[0m\u001b[0;34m\"haversine\"\u001b[0m\u001b[0;34m)\u001b[0m\u001b[0;34m\u001b[0m\u001b[0;34m\u001b[0m\u001b[0m\n\u001b[1;32m      4\u001b[0m \u001b[0mpoints\u001b[0m \u001b[0;34m=\u001b[0m \u001b[0mnp\u001b[0m\u001b[0;34m.\u001b[0m\u001b[0marray\u001b[0m\u001b[0;34m(\u001b[0m\u001b[0mnew_df\u001b[0m\u001b[0;34m[\u001b[0m\u001b[0;34m[\u001b[0m\u001b[0;34m\"pickup_longitude\"\u001b[0m\u001b[0;34m,\u001b[0m\u001b[0;34m\"pickup_latitude\"\u001b[0m\u001b[0;34m]\u001b[0m\u001b[0;34m]\u001b[0m\u001b[0;34m,\u001b[0m \u001b[0mdtype\u001b[0m\u001b[0;34m=\u001b[0m\u001b[0;34m\"float64\"\u001b[0m\u001b[0;34m)\u001b[0m\u001b[0;34m\u001b[0m\u001b[0;34m\u001b[0m\u001b[0m\n\u001b[1;32m      5\u001b[0m \u001b[0mdb\u001b[0m\u001b[0;34m.\u001b[0m\u001b[0mfit\u001b[0m\u001b[0;34m(\u001b[0m\u001b[0mnp\u001b[0m\u001b[0;34m.\u001b[0m\u001b[0mradians\u001b[0m\u001b[0;34m(\u001b[0m\u001b[0mpoints\u001b[0m\u001b[0;34m)\u001b[0m\u001b[0;34m)\u001b[0m\u001b[0;34m\u001b[0m\u001b[0;34m\u001b[0m\u001b[0m\n",
      "\u001b[0;31mNameError\u001b[0m: name 'new_df' is not defined"
     ]
    }
   ],
   "execution_count": null
  },
  {
   "cell_type": "code",
   "source": "clusters_labels = db.labels_\nclusters = pd.Series([points[cluster_labels == n] for n in range(num_clusters)])\nprint(\"There are \" + clusters.shape[0] + \" clusters.\")",
   "metadata": {
    "cell_id": "e1c7bb0052804a819b1b3da01a913078",
    "tags": [],
    "deepnote_cell_type": "code",
    "deepnote_cell_height": 102
   },
   "outputs": [],
   "execution_count": null
  },
  {
   "cell_type": "code",
   "source": "fig, ax  = plt.subplots()\nax1 = ax.scatter(new_df[\"pickup_longitude\"], new_df[\"pickup_latitude\"], alpha=0.3)\n",
   "metadata": {
    "cell_id": "0798a98a9d774e07a9d210082674650e",
    "tags": [],
    "deepnote_cell_type": "code",
    "deepnote_cell_height": 102
   },
   "outputs": [],
   "execution_count": null
  },
  {
   "cell_type": "markdown",
   "source": "# Question 5",
   "metadata": {
    "cell_id": "00036-eb0cc85d-f740-481d-98e5-82fa625a025a",
    "deepnote_cell_type": "markdown",
    "deepnote_cell_height": 82
   }
  },
  {
   "cell_type": "code",
   "metadata": {
    "cell_id": "00037-c7947aba-3827-457d-a615-f33d8089f517",
    "deepnote_to_be_reexecuted": false,
    "source_hash": "931b1445",
    "execution_start": 1656625040530,
    "execution_millis": 6,
    "deepnote_cell_type": "code",
    "deepnote_cell_height": 112.1875
   },
   "source": "print(haversine_np(0,0,0.000400,0.000400)*1000)",
   "execution_count": 24,
   "outputs": [
    {
     "name": "stdout",
     "text": "62.86185703808761\n",
     "output_type": "stream"
    }
   ]
  },
  {
   "cell_type": "code",
   "source": "# Using the Haversine method above we can see we can deviate 0.000200 in both directions in the longitude and latidude.\n# This will result in us having a radius of around 30m which should be an acceptable radius given how large these landmarks are.",
   "metadata": {
    "cell_id": "d945081508c1484f885f27fa82e2bbee",
    "tags": [],
    "deepnote_cell_type": "code",
    "deepnote_cell_height": 84
   },
   "outputs": [],
   "execution_count": null
  },
  {
   "cell_type": "code",
   "source": "# Empire State Building: (40.756724, -73.983806)\n# JFK Airport: (40.647929, -73.777813)\n\nsubset = df.loc[(df['pickup_longitude'] >= 40.756524) & (df['pickup_longitude'] <= 40.756924) &\n                (df['pickup_latitude'] >= -73.983606) & (df['pickup_latitude'] <= -73.984006) &\n                (df['dropoff_longitude'] >= 40.647729) & (df['dropoff_longitude'] <= 40.648229) & \n                (df['dropoff_latitude'] >= -73.777613) & (df['dropoff_latitude'] <= -73.778013)]\n\nmean = subset[\"trip_duration\"].mean()\nprint(mean)",
   "metadata": {
    "cell_id": "daae82adc42945d09baaad3ff0d767ce",
    "tags": [],
    "deepnote_to_be_reexecuted": false,
    "source_hash": "f75d4f43",
    "execution_start": 1656625046189,
    "execution_millis": 35,
    "deepnote_cell_type": "code",
    "deepnote_cell_height": 274.1875
   },
   "outputs": [
    {
     "name": "stdout",
     "text": "nan\n",
     "output_type": "stream"
    }
   ],
   "execution_count": 25
  },
  {
   "cell_type": "code",
   "source": "# Empire State Building: (40.756724, -73.983806)\n# Newark Airport: (40.689442, -74.173242)\n\nsubset = df.loc[(df['pickup_latitude'] >= 40.756524) & (df['pickup_latitude'] <= 40.756924) &\n                (df['pickup_longitude'] >= -73.983606) & (df['pickup_longitude'] <= -73.984006) &\n                (df['dropoff_latitude'] >= 40.689242) & (df['dropoff_latitude'] <= 40.689642) & \n                (df['dropoff_longitude'] >= 74.173042) & (df['dropoff_longitude'] <= 74.173442)]\n\nmean = subset[\"trip_duration\"].mean()\nprint(mean)",
   "metadata": {
    "cell_id": "92d1b0d3ff324ca494d06c1014baae1d",
    "tags": [],
    "deepnote_to_be_reexecuted": false,
    "source_hash": "d507240f",
    "execution_start": 1656625050580,
    "execution_millis": 582,
    "deepnote_cell_type": "code",
    "deepnote_cell_height": 274.1875
   },
   "outputs": [
    {
     "name": "stdout",
     "text": "nan\n",
     "output_type": "stream"
    }
   ],
   "execution_count": 26
  },
  {
   "cell_type": "markdown",
   "source": "# Question 6",
   "metadata": {
    "cell_id": "00038-f450cc0e-2ec7-4f04-8674-3dedc65b7c8b",
    "deepnote_cell_type": "markdown",
    "deepnote_cell_height": 82
   }
  },
  {
   "cell_type": "code",
   "source": "import geopandas as gpd",
   "metadata": {
    "cell_id": "8e05cf1c10384f65b1424264fd8dedca",
    "tags": [],
    "deepnote_to_be_reexecuted": false,
    "source_hash": "4b4f331e",
    "execution_start": 1656625058197,
    "execution_millis": 3,
    "deepnote_cell_type": "code",
    "deepnote_cell_height": 81
   },
   "outputs": [],
   "execution_count": 27
  },
  {
   "cell_type": "code",
   "metadata": {
    "cell_id": "00039-d0e16e71-1c9d-4df0-874e-b6938295c986",
    "deepnote_to_be_reexecuted": false,
    "source_hash": "a4210134",
    "execution_start": 1656625060654,
    "execution_millis": 305,
    "deepnote_cell_type": "code",
    "deepnote_cell_height": 81
   },
   "source": "boroughs = gpd.read_file(\"nyc.shp\")",
   "execution_count": 28,
   "outputs": []
  },
  {
   "cell_type": "code",
   "metadata": {
    "cell_id": "00041-6a6c4c91-25f8-474e-8b60-7e65a7fd19bb",
    "deepnote_to_be_reexecuted": false,
    "source_hash": "f653c985",
    "execution_start": 1656625063121,
    "execution_millis": 2296,
    "deepnote_cell_type": "code",
    "deepnote_cell_height": 496,
    "deepnote_output_heights": [
     null,
     193.875
    ]
   },
   "source": "boroughs[\"area\"] = boroughs.area\nboroughs[\"boundary\"] = boroughs.boundary\nboroughs[\"centroid\"] = boroughs.centroid\nboroughs.crs",
   "execution_count": 29,
   "outputs": [
    {
     "name": "stderr",
     "text": "<ipython-input-29-7314e476fe39>:1: UserWarning: Geometry is in a geographic CRS. Results from 'area' are likely incorrect. Use 'GeoSeries.to_crs()' to re-project geometries to a projected CRS before this operation.\n\n  boroughs[\"area\"] = boroughs.area\n<ipython-input-29-7314e476fe39>:3: UserWarning: Geometry is in a geographic CRS. Results from 'centroid' are likely incorrect. Use 'GeoSeries.to_crs()' to re-project geometries to a projected CRS before this operation.\n\n  boroughs[\"centroid\"] = boroughs.centroid\n",
     "output_type": "stream"
    },
    {
     "output_type": "execute_result",
     "execution_count": 29,
     "data": {
      "text/plain": "<Geographic 2D CRS: GEOGCS[\"WGS84(DD)\",DATUM[\"WGS84\",SPHEROID[\"WGS84\", ...>\nName: WGS84(DD)\nAxis Info [ellipsoidal]:\n- lon[east]: Longitude (degree)\n- lat[north]: Latitude (degree)\nArea of Use:\n- undefined\nDatum: WGS84\n- Ellipsoid: WGS84\n- Prime Meridian: Greenwich"
     },
     "metadata": {}
    }
   ]
  },
  {
   "cell_type": "code",
   "source": "df[\"pickup\"] = gpd.points_from_xy(df[\"pickup_longitude\"], df[\"pickup_latitude\"])\ndf[\"dropoff\"] = gpd.points_from_xy(df[\"dropoff_longitude\"], df[\"dropoff_latitude\"])",
   "metadata": {
    "cell_id": "b139b5a306b148828d8cc399c622ee16",
    "tags": [],
    "deepnote_to_be_reexecuted": false,
    "source_hash": "fc047d49",
    "execution_start": 1656625070861,
    "execution_millis": 105396,
    "deepnote_cell_type": "code",
    "deepnote_cell_height": 99
   },
   "outputs": [],
   "execution_count": null
  },
  {
   "cell_type": "code",
   "source": "b_len = boroughs.shape[0]\nd_len = df.shape[0]",
   "metadata": {
    "cell_id": "4c8f75915fe9430594a3ca4e8cc7d82b",
    "tags": [],
    "deepnote_to_be_reexecuted": true,
    "source_hash": "1765f75c",
    "execution_start": 1656609194008,
    "execution_millis": 4,
    "deepnote_cell_type": "code",
    "deepnote_cell_height": 99,
    "deepnote_output_heights": [
     21.1875
    ]
   },
   "outputs": [],
   "execution_count": null
  },
  {
   "cell_type": "code",
   "source": "pickup_point = gpd.GeoSeries(df[\"pickup\"])\ndropoff_point = gpd.GeoSeries(df[\"dropoff\"])\nname = gpd.GeoSeries(boroughs[\"ntaname\"])\ngeometry = gpd.GeoSeries(boroughs[\"geometry\"])\np_neighbourhood = gpd.GeoSeries(df[\"id\"])\nd_neighbourhood = gpd.GeoSeries(df[\"id\"])",
   "metadata": {
    "cell_id": "ee73fc5f07f34ac68fa7ad2051b04f82",
    "tags": [],
    "deepnote_to_be_reexecuted": true,
    "source_hash": "c80e5568",
    "execution_start": 1656609197048,
    "execution_millis": 4,
    "deepnote_cell_type": "code",
    "deepnote_cell_height": 424.25
   },
   "outputs": [
    {
     "name": "stderr",
     "text": "<ipython-input-47-f82d7b534fd3>:3: FutureWarning:     You are passing non-geometry data to the GeoSeries constructor. Currently,\n    it falls back to returning a pandas Series. But in the future, we will start\n    to raise a TypeError instead.\n  name = gpd.GeoSeries(boroughs[\"ntaname\"])\n<ipython-input-47-f82d7b534fd3>:5: FutureWarning:     You are passing non-geometry data to the GeoSeries constructor. Currently,\n    it falls back to returning a pandas Series. But in the future, we will start\n    to raise a TypeError instead.\n  p_neighbourhood = gpd.GeoSeries(df[\"id\"])\n<ipython-input-47-f82d7b534fd3>:6: FutureWarning:     You are passing non-geometry data to the GeoSeries constructor. Currently,\n    it falls back to returning a pandas Series. But in the future, we will start\n    to raise a TypeError instead.\n  d_neighbourhood = gpd.GeoSeries(df[\"id\"])\n",
     "output_type": "stream"
    }
   ],
   "execution_count": null
  },
  {
   "cell_type": "code",
   "source": "for i in range(b_len):\n    for j in range(d_len):\n        try:\n            if (pickup_point[j].within(geometry[i])):\n                p_neighbourhood[j] = name[i]\n            if (dropoff_point[j].within(geometry[i])):\n                d_neighbourhood[j] = name[i]\n        except:\n            continue",
   "metadata": {
    "cell_id": "88e137b708af4f75949a7a8c9ed26fbb",
    "tags": [],
    "deepnote_to_be_reexecuted": true,
    "source_hash": "9e6929d3",
    "owner_user_id": "7696d833-f59d-4319-b7f9-71333bd3c723",
    "deepnote_cell_type": "code",
    "deepnote_cell_height": 210
   },
   "outputs": [],
   "execution_count": null
  },
  {
   "cell_type": "code",
   "source": "df[\"pickup_neighbourhood\"] = p_neighbourhood\ndf[\"dropoff_neighbourhood\"] = d_neighbourhood\ndf = df[df[\"pickup_neighbourhood\"] != df[\"id\"]]\ndf = df[df[\"dropoff_neighbourhood\"] != df[\"id\"]]",
   "metadata": {
    "cell_id": "631b555c51934f85be1aa930765adaeb",
    "tags": [],
    "deepnote_to_be_reexecuted": true,
    "source_hash": "cb3e3945",
    "deepnote_cell_type": "code",
    "deepnote_cell_height": 120
   },
   "outputs": [],
   "execution_count": null
  },
  {
   "cell_type": "code",
   "source": "pickup_tally = df[\"pickup_neighbourhood\"].value_counts()\ndropoff_tally = df[\"dropoff_neighbourhood\"].value_counts()\nboroughs[\"pickup_tally\"] = boroughs[\"ntaname\"].map(pickup_tally)\nboroughs[\"dropoff_tally\"] = boroughs[\"ntaname\"].map(dropoff_tally)",
   "metadata": {
    "cell_id": "9de05f52e2f64aba93b2a841ad9d0ee6",
    "tags": [],
    "deepnote_to_be_reexecuted": true,
    "source_hash": "80425123",
    "deepnote_cell_type": "code",
    "deepnote_cell_height": 120
   },
   "outputs": [],
   "execution_count": null
  },
  {
   "cell_type": "code",
   "source": "fig, (ax0, ax1) = plt.subplots(rows = 2)\nboroughs.plot(ax = ax0, cmap = \"autumn\", column = \"pickup_tally\")\nboroughs.plot(ax = ax1, cmap = \"autumn\", column = \"dropoff_tally\")\nplt.legend()\nplt.show()",
   "metadata": {
    "cell_id": "061dde22b95d45aaac1a47d11464a28f",
    "tags": [],
    "deepnote_to_be_reexecuted": true,
    "source_hash": "b4b2c4a",
    "deepnote_cell_type": "code",
    "deepnote_cell_height": 138
   },
   "outputs": [],
   "execution_count": null
  },
  {
   "cell_type": "code",
   "source": "outgoing = pickup_tally.index.tolist()\nincoming = dropoff_tally.index.tolist()\n\nprint(incoming[0] + \" is the borough with the most incoming trips.\\n\" + outgoing[0] + \"is the place with the most outgoing trips.\")\n",
   "metadata": {
    "cell_id": "fa71bf84e4934e98be1f14353a051d63",
    "tags": [],
    "deepnote_to_be_reexecuted": true,
    "source_hash": "f0403b69",
    "deepnote_cell_type": "code",
    "deepnote_cell_height": 138
   },
   "outputs": [],
   "execution_count": null
  },
  {
   "cell_type": "code",
   "source": "#Create filters\nstart_time = datetime.strptime('00:00:00', '%H:%M:%S').time()\nend_time = datetime.strptime('05:00:00', '%H:%M:%S').time()\ntime_filter = (df[\"pickup_datetime\"].dt.time.between(start_time, end_time))\nactivity = dropoff_tally.add(pickup_tally)\nactivity_list = activity.index.tolist()\nprint(\"The busiest neighbourhood is \" + activity_list[0] + \".\\nThe quietest neighbourhood is \" + activity_list[len(activity_list) - 1] + \".\")",
   "metadata": {
    "cell_id": "88b8e7458375410f8d3e28624d171842",
    "tags": [],
    "deepnote_to_be_reexecuted": true,
    "source_hash": "305c470b",
    "deepnote_cell_type": "code",
    "deepnote_cell_height": 174
   },
   "outputs": [],
   "execution_count": null
  },
  {
   "cell_type": "markdown",
   "source": "<a style='text-decoration:none;line-height:16px;display:flex;color:#5B5B62;padding:10px;justify-content:end;' href='https://deepnote.com?utm_source=created-in-deepnote-cell&projectId=8f16a16a-4980-4ea6-ac66-512dcf5d8b4e' target=\"_blank\">\n<img alt='Created in deepnote.com' style='display:inline;max-height:16px;margin:0px;margin-right:7.5px;' src='data:image/svg+xml;base64,PD94bWwgdmVyc2lvbj0iMS4wIiBlbmNvZGluZz0iVVRGLTgiPz4KPHN2ZyB3aWR0aD0iODBweCIgaGVpZ2h0PSI4MHB4IiB2aWV3Qm94PSIwIDAgODAgODAiIHZlcnNpb249IjEuMSIgeG1sbnM9Imh0dHA6Ly93d3cudzMub3JnLzIwMDAvc3ZnIiB4bWxuczp4bGluaz0iaHR0cDovL3d3dy53My5vcmcvMTk5OS94bGluayI+CiAgICA8IS0tIEdlbmVyYXRvcjogU2tldGNoIDU0LjEgKDc2NDkwKSAtIGh0dHBzOi8vc2tldGNoYXBwLmNvbSAtLT4KICAgIDx0aXRsZT5Hcm91cCAzPC90aXRsZT4KICAgIDxkZXNjPkNyZWF0ZWQgd2l0aCBTa2V0Y2guPC9kZXNjPgogICAgPGcgaWQ9IkxhbmRpbmciIHN0cm9rZT0ibm9uZSIgc3Ryb2tlLXdpZHRoPSIxIiBmaWxsPSJub25lIiBmaWxsLXJ1bGU9ImV2ZW5vZGQiPgogICAgICAgIDxnIGlkPSJBcnRib2FyZCIgdHJhbnNmb3JtPSJ0cmFuc2xhdGUoLTEyMzUuMDAwMDAwLCAtNzkuMDAwMDAwKSI+CiAgICAgICAgICAgIDxnIGlkPSJHcm91cC0zIiB0cmFuc2Zvcm09InRyYW5zbGF0ZSgxMjM1LjAwMDAwMCwgNzkuMDAwMDAwKSI+CiAgICAgICAgICAgICAgICA8cG9seWdvbiBpZD0iUGF0aC0yMCIgZmlsbD0iIzAyNjVCNCIgcG9pbnRzPSIyLjM3NjIzNzYyIDgwIDM4LjA0NzY2NjcgODAgNTcuODIxNzgyMiA3My44MDU3NTkyIDU3LjgyMTc4MjIgMzIuNzU5MjczOSAzOS4xNDAyMjc4IDMxLjY4MzE2ODMiPjwvcG9seWdvbj4KICAgICAgICAgICAgICAgIDxwYXRoIGQ9Ik0zNS4wMDc3MTgsODAgQzQyLjkwNjIwMDcsNzYuNDU0OTM1OCA0Ny41NjQ5MTY3LDcxLjU0MjI2NzEgNDguOTgzODY2LDY1LjI2MTk5MzkgQzUxLjExMjI4OTksNTUuODQxNTg0MiA0MS42NzcxNzk1LDQ5LjIxMjIyODQgMjUuNjIzOTg0Niw0OS4yMTIyMjg0IEMyNS40ODQ5Mjg5LDQ5LjEyNjg0NDggMjkuODI2MTI5Niw0My4yODM4MjQ4IDM4LjY0NzU4NjksMzEuNjgzMTY4MyBMNzIuODcxMjg3MSwzMi41NTQ0MjUgTDY1LjI4MDk3Myw2Ny42NzYzNDIxIEw1MS4xMTIyODk5LDc3LjM3NjE0NCBMMzUuMDA3NzE4LDgwIFoiIGlkPSJQYXRoLTIyIiBmaWxsPSIjMDAyODY4Ij48L3BhdGg+CiAgICAgICAgICAgICAgICA8cGF0aCBkPSJNMCwzNy43MzA0NDA1IEwyNy4xMTQ1MzcsMC4yNTcxMTE0MzYgQzYyLjM3MTUxMjMsLTEuOTkwNzE3MDEgODAsMTAuNTAwMzkyNyA4MCwzNy43MzA0NDA1IEM4MCw2NC45NjA0ODgyIDY0Ljc3NjUwMzgsNzkuMDUwMzQxNCAzNC4zMjk1MTEzLDgwIEM0Ny4wNTUzNDg5LDc3LjU2NzA4MDggNTMuNDE4MjY3Nyw3MC4zMTM2MTAzIDUzLjQxODI2NzcsNTguMjM5NTg4NSBDNTMuNDE4MjY3Nyw0MC4xMjg1NTU3IDM2LjMwMzk1NDQsMzcuNzMwNDQwNSAyNS4yMjc0MTcsMzcuNzMwNDQwNSBDMTcuODQzMDU4NiwzNy43MzA0NDA1IDkuNDMzOTE5NjYsMzcuNzMwNDQwNSAwLDM3LjczMDQ0MDUgWiIgaWQ9IlBhdGgtMTkiIGZpbGw9IiMzNzkzRUYiPjwvcGF0aD4KICAgICAgICAgICAgPC9nPgogICAgICAgIDwvZz4KICAgIDwvZz4KPC9zdmc+' > </img>\nCreated in <span style='font-weight:600;margin-left:4px;'>Deepnote</span></a>",
   "metadata": {
    "tags": [],
    "created_in_deepnote_cell": true,
    "deepnote_cell_type": "markdown"
   }
  }
 ],
 "nbformat": 4,
 "nbformat_minor": 5,
 "metadata": {
  "kernelspec": {
   "display_name": "Python 3 (ipykernel)",
   "language": "python",
   "name": "python3"
  },
  "language_info": {
   "codemirror_mode": {
    "name": "ipython",
    "version": 3
   },
   "file_extension": ".py",
   "mimetype": "text/x-python",
   "name": "python",
   "nbconvert_exporter": "python",
   "pygments_lexer": "ipython3",
   "version": "3.9.12"
  },
  "deepnote_notebook_id": "df2df4a2-0eb1-493c-ba74-016e7d72fabf",
  "deepnote": {},
  "deepnote_execution_queue": [
   {
    "cellId": "b139b5a306b148828d8cc399c622ee16",
    "sessionId": "ea5e7e31-c673-489e-b59c-32c8b7a8e7c4",
    "msgId": "f6f8a115-629d-42c4-9187-6b581f30f376"
   },
   {
    "cellId": "4c8f75915fe9430594a3ca4e8cc7d82b",
    "sessionId": "ea5e7e31-c673-489e-b59c-32c8b7a8e7c4",
    "msgId": "9fdf9ca7-1b1c-4469-9546-87815c73b435"
   },
   {
    "cellId": "ee73fc5f07f34ac68fa7ad2051b04f82",
    "sessionId": "ea5e7e31-c673-489e-b59c-32c8b7a8e7c4",
    "msgId": "062054db-24af-4098-b903-856a954554c5"
   }
  ]
 }
}